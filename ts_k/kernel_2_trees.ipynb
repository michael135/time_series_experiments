{
 "cells": [
  {
   "cell_type": "markdown",
   "metadata": {
    "_uuid": "5ee23497e387c08e1aa0b7c1a9af658812677a87"
   },
   "source": [
    "# Introduction\n",
    "\n",
    "In this notebook, I go through how I worked to find a decent solution for this challenge using simple uncomplicated techniques. No machine learning, no fancy black-box models. Throw away your ARIMAs and Gradient Boosts. Think simple."
   ]
  },
  {
   "cell_type": "markdown",
   "metadata": {
    "_uuid": "c265d5f4c10385ed1d763e52e182dbb17ea5122b"
   },
   "source": [
    "# Setup and Loading Data"
   ]
  },
  {
   "cell_type": "code",
   "execution_count": 1,
   "metadata": {
    "_uuid": "053e0f77865e9e7351c3a1cc26341f591b1282ce"
   },
   "outputs": [],
   "source": [
    "%load_ext autoreload\n",
    "# %autoreload 2\n",
    "%matplotlib inline\n",
    "%load_ext ipython_unittest\n",
    "\n",
    "import numpy as np\n",
    "import pandas as pd\n",
    "import matplotlib.pyplot as plt\n",
    "from sklearn.tree import DecisionTreeRegressor\n",
    "from sklearn.ensemble import RandomForestRegressor\n",
    "\n",
    "pd.set_option('display.max_rows', 12)"
   ]
  },
  {
   "cell_type": "code",
   "execution_count": 2,
   "metadata": {
    "_cell_guid": "b1076dfc-b9ad-4769-8c92-a6c4dae69d19",
    "_uuid": "8f2839f25d086af736a60e9eeb907d3b93b6e0e5"
   },
   "outputs": [],
   "source": [
    "train = pd.read_csv(\"train.csv\", low_memory=False, \n",
    "                    parse_dates=['date'], index_col=['date'])\n",
    "train.sort_index(inplace=True)\n",
    "\n",
    "test = train.loc['2017-09':, :]\n",
    "train = train.loc[:'2017-08', :]\n",
    "# train = train.loc['2015-09':'2017-08', :]  #short\n",
    "# test = train.loc['2017-09': '2017-10', :] #short\n"
   ]
  },
  {
   "cell_type": "code",
   "execution_count": 3,
   "metadata": {},
   "outputs": [
    {
     "data": {
      "text/html": [
       "<div>\n",
       "<style scoped>\n",
       "    .dataframe tbody tr th:only-of-type {\n",
       "        vertical-align: middle;\n",
       "    }\n",
       "\n",
       "    .dataframe tbody tr th {\n",
       "        vertical-align: top;\n",
       "    }\n",
       "\n",
       "    .dataframe thead th {\n",
       "        text-align: right;\n",
       "    }\n",
       "</style>\n",
       "<table border=\"1\" class=\"dataframe\">\n",
       "  <thead>\n",
       "    <tr style=\"text-align: right;\">\n",
       "      <th></th>\n",
       "      <th>store</th>\n",
       "      <th>item</th>\n",
       "      <th>sales</th>\n",
       "    </tr>\n",
       "    <tr>\n",
       "      <th>date</th>\n",
       "      <th></th>\n",
       "      <th></th>\n",
       "      <th></th>\n",
       "    </tr>\n",
       "  </thead>\n",
       "  <tbody>\n",
       "    <tr>\n",
       "      <th>2017-09-01</th>\n",
       "      <td>2</td>\n",
       "      <td>5</td>\n",
       "      <td>29</td>\n",
       "    </tr>\n",
       "    <tr>\n",
       "      <th>2017-09-01</th>\n",
       "      <td>1</td>\n",
       "      <td>48</td>\n",
       "      <td>63</td>\n",
       "    </tr>\n",
       "    <tr>\n",
       "      <th>2017-09-01</th>\n",
       "      <td>2</td>\n",
       "      <td>45</td>\n",
       "      <td>138</td>\n",
       "    </tr>\n",
       "    <tr>\n",
       "      <th>2017-09-01</th>\n",
       "      <td>9</td>\n",
       "      <td>40</td>\n",
       "      <td>36</td>\n",
       "    </tr>\n",
       "    <tr>\n",
       "      <th>2017-09-01</th>\n",
       "      <td>8</td>\n",
       "      <td>17</td>\n",
       "      <td>48</td>\n",
       "    </tr>\n",
       "  </tbody>\n",
       "</table>\n",
       "</div>"
      ],
      "text/plain": [
       "            store  item  sales\n",
       "date                          \n",
       "2017-09-01      2     5     29\n",
       "2017-09-01      1    48     63\n",
       "2017-09-01      2    45    138\n",
       "2017-09-01      9    40     36\n",
       "2017-09-01      8    17     48"
      ]
     },
     "execution_count": 3,
     "metadata": {},
     "output_type": "execute_result"
    }
   ],
   "source": [
    "test.head()"
   ]
  },
  {
   "cell_type": "code",
   "execution_count": 4,
   "metadata": {},
   "outputs": [],
   "source": [
    "def smape(A, F):\n",
    "    A, F = A.astype(float), F.astype(float)\n",
    "\n",
    "    return (100. / len(A)) * np.sum(2 * np.abs(F - A) / (np.abs(A) + np.abs(F)  + np.finfo(float).eps))"
   ]
  },
  {
   "cell_type": "markdown",
   "metadata": {},
   "source": [
    "### unit tests"
   ]
  },
  {
   "cell_type": "code",
   "execution_count": 5,
   "metadata": {},
   "outputs": [
    {
     "data": {
      "application/unittest.status+json": {
       "color": "yellow",
       "message": "",
       "previous": 0
      },
      "text/plain": []
     },
     "metadata": {},
     "output_type": "display_data"
    },
    {
     "data": {
      "application/unittest.status+json": {
       "color": "lightgreen",
       "message": ".\n----------------------------------------------------------------------\nRan 1 test in 0.001s\n\nOK\n",
       "previous": 0
      },
      "text/plain": [
       "Success"
      ]
     },
     "metadata": {},
     "output_type": "display_data"
    },
    {
     "name": "stdout",
     "output_type": "stream",
     "text": [
      ".\n",
      "----------------------------------------------------------------------\n",
      "Ran 1 test in 0.001s\n",
      "\n",
      "OK\n"
     ]
    },
    {
     "data": {
      "text/plain": [
       "<unittest.runner.TextTestResult run=1 errors=0 failures=0>"
      ]
     },
     "execution_count": 5,
     "metadata": {},
     "output_type": "execute_result"
    }
   ],
   "source": [
    "%%unittest_testcase\n",
    "\n",
    "def test_smape(self):\n",
    "    A1, F1 = np.array([1, 2]), np.array([1.1, 2.2])\n",
    "    expected_result1 = 100 * .5 * (.1 / 1.05 + .2 / 2.1)\n",
    "    A2, F2 = np.array([1, 2]), np.array([3, 4])\n",
    "    expected_result2 = 100 * .5 * (2 / 2 + 2. / 3)\n",
    "    A3 = np.arange(101)\n",
    "    F3 = np.arange(101)\n",
    "    F3[100] = 101\n",
    "    expected_result3 = (100. / 101) * (1 / (201. / 2))\n",
    "    \n",
    "    self.assertAlmostEqual(smape(A1,F1), expected_result1, places = 7)\n",
    "    self.assertAlmostEqual(smape(A2,F2), expected_result2, places = 7)\n",
    "    self.assertAlmostEqual(smape(A3,F3), expected_result3, places = 7)"
   ]
  },
  {
   "cell_type": "markdown",
   "metadata": {},
   "source": [
    "## Exploring the data"
   ]
  },
  {
   "cell_type": "code",
   "execution_count": 6,
   "metadata": {},
   "outputs": [],
   "source": [
    "# Expand dataframe with more useful columns\n",
    "def expand_df(df):\n",
    "    data = df.copy()\n",
    "    data['day'] = data.index.day\n",
    "    data['month'] = data.index.month\n",
    "    data['year'] = data.index.year\n",
    "    data['dayofweek'] = data.index.dayofweek\n",
    "#     data['week_of_year']  = data.index.weekofyear\n",
    "    return data\n",
    "\n",
    "train = expand_df(train)\n",
    "test = expand_df(test)\n",
    "\n"
   ]
  },
  {
   "cell_type": "code",
   "execution_count": 7,
   "metadata": {},
   "outputs": [],
   "source": [
    "train_colums = ['store', 'item', 'month', 'year', 'dayofweek']\n",
    "labels_column = 'sales'\n",
    "data_x = train[train_colums].values\n",
    "data_y = train[labels_column].values\n",
    "\n",
    "data_test_x = test[train_colums].values\n",
    "data_test_y = test[labels_column].values"
   ]
  },
  {
   "cell_type": "code",
   "execution_count": 8,
   "metadata": {},
   "outputs": [
    {
     "data": {
      "text/plain": [
       "DecisionTreeRegressor(criterion='mse', max_depth=50, max_features=None,\n",
       "           max_leaf_nodes=None, min_impurity_decrease=0.0,\n",
       "           min_impurity_split=None, min_samples_leaf=1,\n",
       "           min_samples_split=2, min_weight_fraction_leaf=0.0,\n",
       "           presort=False, random_state=None, splitter='best')"
      ]
     },
     "execution_count": 8,
     "metadata": {},
     "output_type": "execute_result"
    }
   ],
   "source": [
    "regr_1 = DecisionTreeRegressor(max_depth=10)\n",
    "regr_2 = DecisionTreeRegressor(max_depth=50)\n",
    "\n",
    "regr_1.fit(data_x, data_y)\n",
    "regr_2.fit(data_x, data_y)"
   ]
  },
  {
   "cell_type": "code",
   "execution_count": 9,
   "metadata": {},
   "outputs": [],
   "source": [
    "y_1 = regr_1.predict(data_test_x)\n",
    "y_2 = regr_2.predict(data_test_x)"
   ]
  },
  {
   "cell_type": "code",
   "execution_count": 11,
   "metadata": {},
   "outputs": [
    {
     "name": "stdout",
     "output_type": "stream",
     "text": [
      "29.54142495780605\n",
      "13.584439225622969\n"
     ]
    }
   ],
   "source": [
    "print smape(y_1, data_test_y)\n",
    "print smape(y_2, data_test_y)"
   ]
  },
  {
   "cell_type": "code",
   "execution_count": null,
   "metadata": {},
   "outputs": [],
   "source": []
  }
 ],
 "metadata": {
  "kernelspec": {
   "display_name": "Python 2",
   "language": "python",
   "name": "python2"
  },
  "language_info": {
   "codemirror_mode": {
    "name": "ipython",
    "version": 2
   },
   "file_extension": ".py",
   "mimetype": "text/x-python",
   "name": "python",
   "nbconvert_exporter": "python",
   "pygments_lexer": "ipython2",
   "version": "2.7.13"
  }
 },
 "nbformat": 4,
 "nbformat_minor": 1
}
