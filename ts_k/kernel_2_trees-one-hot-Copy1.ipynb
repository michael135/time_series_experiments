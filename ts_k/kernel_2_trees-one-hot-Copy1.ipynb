{
 "cells": [
  {
   "cell_type": "markdown",
   "metadata": {
    "_uuid": "5ee23497e387c08e1aa0b7c1a9af658812677a87"
   },
   "source": [
    "# Introduction\n",
    "\n",
    "In this notebook, I go through how I worked to find a decent solution for this challenge using simple uncomplicated techniques. No machine learning, no fancy black-box models. Throw away your ARIMAs and Gradient Boosts. Think simple."
   ]
  },
  {
   "cell_type": "markdown",
   "metadata": {
    "_uuid": "c265d5f4c10385ed1d763e52e182dbb17ea5122b"
   },
   "source": [
    "# Setup and Loading Data"
   ]
  },
  {
   "cell_type": "code",
   "execution_count": 1,
   "metadata": {
    "_uuid": "053e0f77865e9e7351c3a1cc26341f591b1282ce"
   },
   "outputs": [],
   "source": [
    "%load_ext autoreload\n",
    "# %autoreload 2\n",
    "%matplotlib inline\n",
    "%load_ext ipython_unittest\n",
    "\n",
    "import numpy as np\n",
    "import pandas as pd\n",
    "import matplotlib.pyplot as plt\n",
    "from sklearn.tree import DecisionTreeRegressor\n",
    "from sklearn.ensemble import RandomForestRegressor\n",
    "\n",
    "\n",
    "pd.set_option('display.max_rows', 12)"
   ]
  },
  {
   "cell_type": "code",
   "execution_count": 2,
   "metadata": {
    "_cell_guid": "b1076dfc-b9ad-4769-8c92-a6c4dae69d19",
    "_uuid": "8f2839f25d086af736a60e9eeb907d3b93b6e0e5"
   },
   "outputs": [
    {
     "name": "stdout",
     "output_type": "stream",
     "text": [
      "CPU times: user 816 ms, sys: 108 ms, total: 925 ms\n",
      "Wall time: 927 ms\n"
     ]
    }
   ],
   "source": [
    "%%time\n",
    "data = pd.read_csv(\"train.csv\", low_memory=False, \n",
    "                    parse_dates=['date'], index_col=['date'])\n",
    "data.sort_index(inplace=True)\n",
    "\n"
   ]
  },
  {
   "cell_type": "code",
   "execution_count": 3,
   "metadata": {},
   "outputs": [],
   "source": [
    "def smape(A, F):\n",
    "    \"\"\" SMAPE transformation\"\"\"\n",
    "    A, F = A.astype(float), F.astype(float)\n",
    "\n",
    "    return (100. / len(A)) * np.sum(2 * np.abs(F - A) / (np.abs(A) + np.abs(F)  + np.finfo(float).eps))\n",
    "\n",
    " \n",
    "def expand_df(df):\n",
    "    \"\"\"Expand dataframe with more useful columns\"\"\"\n",
    "    data = df.copy()\n",
    "    data['day'] = data.index.day\n",
    "    data['month'] = data.index.month\n",
    "    data['year'] = data.index.year\n",
    "    data['dayofweek'] = data.index.dayofweek\n",
    "    data['week_of_year']  = data.index.weekofyear\n",
    "    return data"
   ]
  },
  {
   "cell_type": "markdown",
   "metadata": {},
   "source": [
    "### unit tests"
   ]
  },
  {
   "cell_type": "code",
   "execution_count": 4,
   "metadata": {},
   "outputs": [
    {
     "data": {
      "application/unittest.status+json": {
       "color": "yellow",
       "message": "",
       "previous": 0
      },
      "text/plain": []
     },
     "metadata": {},
     "output_type": "display_data"
    },
    {
     "data": {
      "application/unittest.status+json": {
       "color": "lightgreen",
       "message": ".\n----------------------------------------------------------------------\nRan 1 test in 0.000s\n\nOK\n",
       "previous": 0
      },
      "text/plain": [
       "Success"
      ]
     },
     "metadata": {},
     "output_type": "display_data"
    },
    {
     "name": "stdout",
     "output_type": "stream",
     "text": [
      ".\n",
      "----------------------------------------------------------------------\n",
      "Ran 1 test in 0.000s\n",
      "\n",
      "OK\n"
     ]
    },
    {
     "data": {
      "text/plain": [
       "<unittest.runner.TextTestResult run=1 errors=0 failures=0>"
      ]
     },
     "execution_count": 4,
     "metadata": {},
     "output_type": "execute_result"
    }
   ],
   "source": [
    "%%unittest_testcase\n",
    "\n",
    "def test_smape(self):\n",
    "    A1, F1 = np.array([1, 2]), np.array([1.1, 2.2])\n",
    "    expected_result1 = 100 * .5 * (.1 / 1.05 + .2 / 2.1)\n",
    "    A2, F2 = np.array([1, 2]), np.array([3, 4])\n",
    "    expected_result2 = 100 * .5 * (2 / 2 + 2. / 3)\n",
    "    A3 = np.arange(101)\n",
    "    F3 = np.arange(101)\n",
    "    F3[100] = 101\n",
    "    expected_result3 = (100. / 101) * (1 / (201. / 2))\n",
    "    \n",
    "    self.assertAlmostEqual(smape(A1,F1), expected_result1, places = 7)\n",
    "    self.assertAlmostEqual(smape(A2,F2), expected_result2, places = 7)\n",
    "    self.assertAlmostEqual(smape(A3,F3), expected_result3, places = 7)"
   ]
  },
  {
   "cell_type": "markdown",
   "metadata": {},
   "source": [
    "## One hot transformation "
   ]
  },
  {
   "cell_type": "code",
   "execution_count": 5,
   "metadata": {},
   "outputs": [
    {
     "name": "stdout",
     "output_type": "stream",
     "text": [
      "CPU times: user 582 ms, sys: 279 ms, total: 861 ms\n",
      "Wall time: 860 ms\n"
     ]
    }
   ],
   "source": [
    "%%time\n",
    "data = expand_df(data)\n",
    "data = pd.get_dummies(data, columns=[u'store', u'item'])\n",
    "\n",
    "\n",
    "test = data.loc['2017-09':, :]\n",
    "train = data.loc[:'2017-08', :]\n",
    "\n",
    "data_x = train.drop(columns='sales').values\n",
    "data_y = train['sales'].values\n",
    "\n",
    "data_test_x = test.drop(columns='sales').values\n",
    "data_test_y = test['sales'].values\n"
   ]
  },
  {
   "cell_type": "code",
   "execution_count": 10,
   "metadata": {},
   "outputs": [
    {
     "name": "stdout",
     "output_type": "stream",
     "text": [
      "CPU times: user 3min 35s, sys: 1.06 s, total: 3min 36s\n",
      "Wall time: 43.9 s\n"
     ]
    }
   ],
   "source": [
    "%%time\n",
    "regr_1 = DecisionTreeRegressor(max_depth=10)\n",
    "regr_2 = DecisionTreeRegressor(max_depth=100)\n",
    "regr_3 = RandomForestRegressor(bootstrap=True, criterion='mse', max_depth=50,\n",
    "           max_features='auto', max_leaf_nodes=None,\n",
    "           min_impurity_decrease=0.0, min_impurity_split=None,\n",
    "           min_samples_leaf=20, min_samples_split=20,\n",
    "           min_weight_fraction_leaf=0.0, n_estimators=20, n_jobs=8,\n",
    "           oob_score=False, random_state=0, verbose=0, warm_start=False)\n",
    "\n",
    "\n",
    "regr_1.fit(data_x, data_y)\n",
    "regr_2.fit(data_x, data_y)\n",
    "regr_3.fit(data_x, data_y)"
   ]
  },
  {
   "cell_type": "code",
   "execution_count": 11,
   "metadata": {},
   "outputs": [
    {
     "name": "stdout",
     "output_type": "stream",
     "text": [
      "38.025085882405925 17.57035299822435 13.871961174349924\n"
     ]
    }
   ],
   "source": [
    "y_1 = regr_1.predict(data_test_x)\n",
    "y_2 = regr_2.predict(data_test_x)\n",
    "y_3 = regr_3.predict(data_test_x)\n",
    "\n",
    "\n",
    "print smape(y_1, data_test_y), smape(y_2, data_test_y), smape(y_3, data_test_y)"
   ]
  },
  {
   "cell_type": "code",
   "execution_count": null,
   "metadata": {},
   "outputs": [],
   "source": []
  }
 ],
 "metadata": {
  "kernelspec": {
   "display_name": "Python 2",
   "language": "python",
   "name": "python2"
  },
  "language_info": {
   "codemirror_mode": {
    "name": "ipython",
    "version": 2
   },
   "file_extension": ".py",
   "mimetype": "text/x-python",
   "name": "python",
   "nbconvert_exporter": "python",
   "pygments_lexer": "ipython2",
   "version": "2.7.13"
  }
 },
 "nbformat": 4,
 "nbformat_minor": 1
}
