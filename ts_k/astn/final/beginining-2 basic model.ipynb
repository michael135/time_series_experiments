{
 "cells": [
  {
   "cell_type": "code",
   "execution_count": 2,
   "metadata": {},
   "outputs": [],
   "source": [
    "%matplotlib inline\n",
    "import random\n",
    "import pandas as pd\n",
    "import matplotlib.pyplot as plt\n",
    "import numpy as np"
   ]
  },
  {
   "cell_type": "code",
   "execution_count": 3,
   "metadata": {},
   "outputs": [
    {
     "data": {
      "text/plain": [
       "u'/Users/mdymshits/time_series_experiments/ts_k/astn/final'"
      ]
     },
     "execution_count": 3,
     "metadata": {},
     "output_type": "execute_result"
    }
   ],
   "source": [
    "%pwd"
   ]
  },
  {
   "cell_type": "markdown",
   "metadata": {},
   "source": [
    "## Reading data\n",
    "shuffling and splitting into Train and Test."
   ]
  },
  {
   "cell_type": "code",
   "execution_count": 71,
   "metadata": {},
   "outputs": [],
   "source": [
    "data = pd.read_csv('../data/market_data.csv').drop(columns=['Unnamed: 0', 'Time'])\n",
    "num_of_ts = data.shape[1]\n",
    "data_numpy = data.values.T\n",
    "np.random.shuffle(data_numpy)\n",
    "train = data_numpy[:num_of_ts/2, :]\n",
    "test = data_numpy[num_of_ts/2:, :]"
   ]
  },
  {
   "cell_type": "markdown",
   "metadata": {},
   "source": [
    "## Functions"
   ]
  },
  {
   "cell_type": "code",
   "execution_count": 157,
   "metadata": {},
   "outputs": [],
   "source": [
    "def min_max_estimator_training(data, parameters_to_check):\n",
    "    \"\"\"Evaluate traind strategy for a given set of parametrs.\n",
    "       \"Trading Strategy\" is by when the value is close to min and to\n",
    "       to sell when it is close to maximum.\n",
    "    \"\"\"\n",
    "    cost_function = []\n",
    "    min_gap, max_gap = min_max_diff(data)\n",
    "    \n",
    "    for n in parameters_to_check:        \n",
    "        cost_function_n = min_max_inference(data, min_gap, max_gap, parameter=n)\n",
    "        cost_function.append(cost_function_n)\n",
    "        print 'We have earned {:.3f} with gap parameter = {:.2f}'.format(cost_function_n, n)            \n",
    "    return cost_function\n",
    "\n",
    "\n",
    "def min_max_diff(data):\n",
    "    \"\"\"\n",
    "    Calculate difference in between minimum in first half of time series to second part.\n",
    "    The same for maximum.\n",
    "    \"\"\"\n",
    "    first, second = data[:, :60], data[:, 60:]\n",
    "    min_diff = np.min(first, axis=1) - np.min(second, axis=1)\n",
    "    max_diff = np.max(first, axis=1) - np.max(second, axis=1)\n",
    "\n",
    "    return np.std(min_diff), np.std(max_diff)\n",
    "\n",
    "\n",
    "def min_max_inference(data, min_gap, max_gap, parameter):\n",
    "    \"\"\"\n",
    "    Calculater cost function (revenue), given all parameters\n",
    "    \"\"\"\n",
    "    n = parameter\n",
    "    trade = np.zeros((data.shape[0], 2), dtype=float)\n",
    "    for i in range(data.shape[0]):\n",
    "        first_min, first_max = data[i, :60].min(), data[i, :60].max()\n",
    "        min_achieved = False\n",
    "        for val in data[i, 60:]:\n",
    "            if val < first_min + n * min_gap:\n",
    "                trade[i, 0] = val\n",
    "                min_achieved = True\n",
    "            if min_achieved and val > first_max - n * max_gap:\n",
    "                trade[i, 1] = val\n",
    "                break\n",
    "                \n",
    "    cost_function_n = np.sum(trade[:, 1] - trade[:, 0])\n",
    "    return cost_function_n"
   ]
  },
  {
   "cell_type": "markdown",
   "metadata": {},
   "source": [
    "## Training"
   ]
  },
  {
   "cell_type": "code",
   "execution_count": 153,
   "metadata": {},
   "outputs": [
    {
     "data": {
      "text/plain": [
       "array([2.5       , 2.55263158, 2.60526316, 2.65789474, 2.71052632,\n",
       "       2.76315789, 2.81578947, 2.86842105, 2.92105263, 2.97368421,\n",
       "       3.02631579, 3.07894737, 3.13157895, 3.18421053, 3.23684211,\n",
       "       3.28947368, 3.34210526, 3.39473684, 3.44736842, 3.5       ])"
      ]
     },
     "execution_count": 153,
     "metadata": {},
     "output_type": "execute_result"
    }
   ],
   "source": [
    "np.linspace(2.5, 3.5, 20)"
   ]
  },
  {
   "cell_type": "code",
   "execution_count": 156,
   "metadata": {},
   "outputs": [
    {
     "data": {
      "text/plain": [
       "20"
      ]
     },
     "execution_count": 156,
     "metadata": {},
     "output_type": "execute_result"
    }
   ],
   "source": [
    "len(parameters_to_check)"
   ]
  },
  {
   "cell_type": "code",
   "execution_count": 159,
   "metadata": {},
   "outputs": [
    {
     "name": "stdout",
     "output_type": "stream",
     "text": [
      "20\n",
      "We have earned 0.200 with gap parameter = 2.50\n",
      "We have earned 0.207 with gap parameter = 2.55\n",
      "We have earned 0.222 with gap parameter = 2.61\n",
      "We have earned 0.235 with gap parameter = 2.66\n",
      "We have earned 0.248 with gap parameter = 2.71\n",
      "We have earned 0.253 with gap parameter = 2.76\n",
      "We have earned 0.251 with gap parameter = 2.82\n",
      "We have earned 0.258 with gap parameter = 2.87\n",
      "We have earned 0.259 with gap parameter = 2.92\n",
      "We have earned 0.262 with gap parameter = 2.97\n",
      "We have earned 0.256 with gap parameter = 3.03\n",
      "We have earned 0.256 with gap parameter = 3.08\n",
      "We have earned 0.250 with gap parameter = 3.13\n",
      "We have earned 0.240 with gap parameter = 3.18\n",
      "We have earned 0.232 with gap parameter = 3.24\n",
      "We have earned 0.221 with gap parameter = 3.29\n",
      "We have earned 0.210 with gap parameter = 3.34\n",
      "We have earned 0.198 with gap parameter = 3.39\n",
      "We have earned 0.188 with gap parameter = 3.45\n",
      "We have earned 0.173 with gap parameter = 3.50\n"
     ]
    }
   ],
   "source": [
    "parameters_to_check = np.linspace(2.5, 3.5, 10)\n",
    "cost_function = min_max_estimator_training(train, parameters_to_check)"
   ]
  },
  {
   "cell_type": "markdown",
   "metadata": {},
   "source": [
    "### Let's plot the cost function (revenue)"
   ]
  },
  {
   "cell_type": "code",
   "execution_count": 161,
   "metadata": {},
   "outputs": [
    {
     "data": {
      "image/png": "[encoded data removed]",
      "text/plain": [
       "<matplotlib.figure.Figure at 0x10e25f290>"
      ]
     },
     "metadata": {},
     "output_type": "display_data"
    }
   ],
   "source": [
    "plt.plot(parameters_to_check, cost_function, marker='o');\n",
    "plt.xlabel('gap paramter', fontsize=16);\n",
    "plt.ylabel('revenue/ cost function', fontsize=16);"
   ]
  },
  {
   "cell_type": "markdown",
   "metadata": {},
   "source": [
    "# Testing"
   ]
  },
  {
   "cell_type": "code",
   "execution_count": 163,
   "metadata": {},
   "outputs": [
    {
     "data": {
      "text/plain": [
       "0.266701163"
      ]
     },
     "execution_count": 163,
     "metadata": {},
     "output_type": "execute_result"
    }
   ],
   "source": [
    "min_gap, max_gap = min_max_diff(train)\n",
    "min_max_inference(test, min_gap, max_gap, parameter=2.95)"
   ]
  },
  {
   "cell_type": "markdown",
   "metadata": {},
   "source": [
    "We have earned 0.267 with gap parameter = 2.95"
   ]
  },
  {
   "cell_type": "markdown",
   "metadata": {},
   "source": [
    "## Conclustion for Method 1\n",
    "\n",
    "The results are for test are almost the same as for train.\n",
    "For full data set it should be:\n",
    "\n",
    "$$ 0.267 \\cdot 2 \\approx .53 $$"
   ]
  },
  {
   "cell_type": "code",
   "execution_count": null,
   "metadata": {},
   "outputs": [],
   "source": []
  }
 ],
 "metadata": {
  "kernelspec": {
   "display_name": "Python 2",
   "language": "python",
   "name": "python2"
  },
  "language_info": {
   "codemirror_mode": {
    "name": "ipython",
    "version": 2
   },
   "file_extension": ".py",
   "mimetype": "text/x-python",
   "name": "python",
   "nbconvert_exporter": "python",
   "pygments_lexer": "ipython2",
   "version": "2.7.13"
  }
 },
 "nbformat": 4,
 "nbformat_minor": 2
}
