{
 "cells": [
  {
   "cell_type": "markdown",
   "metadata": {},
   "source": [
    "In this notebook we would like to calculate Lower and Upper bound of possible Revenue, in order to understand what are the best and the worst, results, that we may achieve.\n",
    "## Reading data"
   ]
  },
  {
   "cell_type": "code",
   "execution_count": null,
   "metadata": {},
   "outputs": [],
   "source": [
    "import pandas as pd\n",
    "import numpy as np\n",
    "data = pd.read_csv('../data/market_data.csv').drop(columns=['Unnamed: 0', 'Time'])\n"
   ]
  },
  {
   "cell_type": "markdown",
   "metadata": {},
   "source": [
    "# Functions"
   ]
  },
  {
   "cell_type": "markdown",
   "metadata": {},
   "source": [
    "Efficient implementation of finding min - max, such that minimum should appear before maximum.\n",
    "\n",
    "(is taken from https://www.geeksforgeeks.org/maximum-difference-between-two-elements/)"
   ]
  },
  {
   "cell_type": "markdown",
   "metadata": {},
   "source": [
    "<img src=\"../img/max_diff.png\",width=400,height=400>"
   ]
  },
  {
   "cell_type": "code",
   "execution_count": 11,
   "metadata": {},
   "outputs": [],
   "source": [
    "def max_diff(arr):\n",
    "    \n",
    "    \"\"\"returns max difference in list, such that\n",
    "    mininmum appears before maximum\"\"\"\n",
    "    \n",
    "    max_diff = arr[1] - arr[0]\n",
    "    min_element = arr[0]\n",
    "    for val in arr:\n",
    "        if val - min_element > max_diff:\n",
    "            max_diff = val - min_element\n",
    "        if val < min_element:\n",
    "            min_element = val\n",
    "    return max_diff"
   ]
  },
  {
   "cell_type": "markdown",
   "metadata": {},
   "source": [
    "## Let's calculate the Upper Bound of the revenue"
   ]
  },
  {
   "cell_type": "code",
   "execution_count": 14,
   "metadata": {},
   "outputs": [
    {
     "name": "stdout",
     "output_type": "stream",
     "text": [
      "real upper bound = 2.57\n"
     ]
    }
   ],
   "source": [
    "real_upper_bound = np.sum(max_diff(data.values[60:, col]) for col in range(data.values.shape[1]))\n",
    "print 'real upper bound = {:.2f}'.format(real_upper_bound)"
   ]
  },
  {
   "cell_type": "markdown",
   "metadata": {},
   "source": [
    "## Let's also calculate Lower Bound\n",
    "to have some intuoition what is the worst possible results"
   ]
  },
  {
   "cell_type": "code",
   "execution_count": 16,
   "metadata": {},
   "outputs": [
    {
     "name": "stdout",
     "output_type": "stream",
     "text": [
      "lower bound = -4.23\n"
     ]
    }
   ],
   "source": [
    "real_upper_bound = np.sum(np.max(data.values[60:, col]) for col in range(data.values.shape[1]))\n",
    "print 'lower bound = -{:.2f}'.format(real_upper_bound)"
   ]
  },
  {
   "cell_type": "markdown",
   "metadata": {},
   "source": [
    "## Notes\n",
    "\n",
    "The bounds calculated on the second half [60:120] of time series, since the first part we may use for training."
   ]
  }
 ],
 "metadata": {
  "kernelspec": {
   "display_name": "Python 2",
   "language": "python",
   "name": "python2"
  },
  "language_info": {
   "codemirror_mode": {
    "name": "ipython",
    "version": 2
   },
   "file_extension": ".py",
   "mimetype": "text/x-python",
   "name": "python",
   "nbconvert_exporter": "python",
   "pygments_lexer": "ipython2",
   "version": "2.7.13"
  }
 },
 "nbformat": 4,
 "nbformat_minor": 2
}
