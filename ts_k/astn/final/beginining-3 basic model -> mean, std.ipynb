{
 "cells": [
  {
   "cell_type": "code",
   "execution_count": 3,
   "metadata": {},
   "outputs": [],
   "source": [
    "%matplotlib inline\n",
    "import random\n",
    "import pandas as pd\n",
    "import matplotlib.pyplot as plt\n",
    "import numpy as np"
   ]
  },
  {
   "cell_type": "code",
   "execution_count": 109,
   "metadata": {},
   "outputs": [],
   "source": [
    "data = pd.read_csv('../data/market_data.csv').drop(columns=['Unnamed: 0', 'Time'])\n",
    "num_of_ts = data.shape[1]\n",
    "data_numpy = data.values.T\n",
    "np.random.shuffle(data_numpy)\n",
    "train = data_numpy[:num_of_ts/2, :]\n",
    "test = data_numpy[num_of_ts/2:, :]"
   ]
  },
  {
   "cell_type": "markdown",
   "metadata": {},
   "source": [
    "## Functions"
   ]
  },
  {
   "cell_type": "code",
   "execution_count": 117,
   "metadata": {},
   "outputs": [],
   "source": [
    "def mean_std_inference(data, n):\n",
    "    \"\"\"For each time series, calculates, mean and std on first part.\n",
    "    Buy when value lower than mean - n * std, Sell when values higher than\n",
    "    mean + n * std.\n",
    "    \"\"\"\n",
    "    trade = np.zeros((data.shape[0], 2), dtype=float)\n",
    "    for i in range(data.shape[0]):\n",
    "        first_mean, first_std = data[i, :60].mean(), data[i, :60].std()\n",
    "        min_achieved = False\n",
    "        for val in data[i, 60:]:\n",
    "            if val < first_mean - n * first_std:\n",
    "                trade[i, 0] = val\n",
    "                min_achieved = True\n",
    "            if min_achieved and val > first_mean + n * first_std:\n",
    "                trade[i, 1] = val\n",
    "\n",
    "                break\n",
    "    cost_function_n = np.sum(trade[:, 1] - trade[:, 0])\n",
    "    return cost_function_n\n",
    "\n",
    "\n",
    "def mean_std_training(data, n_parameters=np.linspace(.01, 1, 20)):\n",
    "    \"\"\"Cacluclates revenue for ginve range of parameters\"\"\"\n",
    "    cost_function = []\n",
    "    for n in np.linspace(.01, 1, 20):\n",
    "        cost_function_n = mean_std_inference(data, n)\n",
    "        cost_function.append(cost_function_n)\n",
    "        print 'We have earned {:.3f} with gap parameter = {:.2f}'.format(cost_function_n, n)\n",
    "    return cost_function\n"
   ]
  },
  {
   "cell_type": "markdown",
   "metadata": {},
   "source": [
    "## Training"
   ]
  },
  {
   "cell_type": "code",
   "execution_count": 119,
   "metadata": {},
   "outputs": [
    {
     "name": "stdout",
     "output_type": "stream",
     "text": [
      "We have earned 0.195 with gap parameter = 0.01\n",
      "We have earned 0.206 with gap parameter = 0.06\n",
      "We have earned 0.217 with gap parameter = 0.11\n",
      "We have earned 0.231 with gap parameter = 0.17\n",
      "We have earned 0.239 with gap parameter = 0.22\n",
      "We have earned 0.240 with gap parameter = 0.27\n",
      "We have earned 0.248 with gap parameter = 0.32\n",
      "We have earned 0.248 with gap parameter = 0.37\n",
      "We have earned 0.233 with gap parameter = 0.43\n",
      "We have earned 0.213 with gap parameter = 0.48\n",
      "We have earned 0.195 with gap parameter = 0.53\n",
      "We have earned 0.171 with gap parameter = 0.58\n",
      "We have earned 0.144 with gap parameter = 0.64\n",
      "We have earned 0.108 with gap parameter = 0.69\n",
      "We have earned 0.075 with gap parameter = 0.74\n",
      "We have earned 0.048 with gap parameter = 0.79\n",
      "We have earned 0.017 with gap parameter = 0.84\n",
      "We have earned -0.012 with gap parameter = 0.90\n",
      "We have earned -0.034 with gap parameter = 0.95\n",
      "We have earned -0.051 with gap parameter = 1.00\n"
     ]
    }
   ],
   "source": [
    "cost_function = mean_std_training(data=train)"
   ]
  },
  {
   "cell_type": "markdown",
   "metadata": {},
   "source": [
    "So far the best parameter is: **$ n = \\frac{(0.35 + 0.37)}{ 2}$**"
   ]
  },
  {
   "cell_type": "markdown",
   "metadata": {},
   "source": [
    "## Let's visualize the cost function"
   ]
  },
  {
   "cell_type": "code",
   "execution_count": 131,
   "metadata": {},
   "outputs": [
    {
     "data": {
      "image/png": "[encoded data removed]",
      "text/plain": [
       "<matplotlib.figure.Figure at 0x10bea4a10>"
      ]
     },
     "metadata": {},
     "output_type": "display_data"
    }
   ],
   "source": [
    "plt.plot(np.linspace(.01, 1, 20), cost_function, marker='o');\n",
    "plt.xlabel('gap paramter', fontsize=16);\n",
    "plt.ylabel('revenue/ cost function', fontsize=16);"
   ]
  },
  {
   "cell_type": "markdown",
   "metadata": {},
   "source": [
    "## Testing"
   ]
  },
  {
   "cell_type": "code",
   "execution_count": 129,
   "metadata": {},
   "outputs": [
    {
     "name": "stdout",
     "output_type": "stream",
     "text": [
      "Result on Test set is 0.259 with n = 0.345\n"
     ]
    }
   ],
   "source": [
    "print 'Result on Test set is {:.3f} with n = {:.3f}'.format(mean_std_inference(data=test, n=.345), .345)"
   ]
  },
  {
   "cell_type": "markdown",
   "metadata": {},
   "source": [
    "## Conclusion\n",
    "\n",
    "This approach is when simpler thatn approach in notebook #2, and the reasults are very similar.\n",
    "\n",
    "The results are for test are almost the same as for train (even a bit better).\n",
    "For full data set it should be:\n",
    "\n",
    "$$ 0.259 \\cdot 2 \\approx .52 $$\n"
   ]
  },
  {
   "cell_type": "code",
   "execution_count": null,
   "metadata": {},
   "outputs": [],
   "source": []
  }
 ],
 "metadata": {
  "kernelspec": {
   "display_name": "Python 2",
   "language": "python",
   "name": "python2"
  },
  "language_info": {
   "codemirror_mode": {
    "name": "ipython",
    "version": 2
   },
   "file_extension": ".py",
   "mimetype": "text/x-python",
   "name": "python",
   "nbconvert_exporter": "python",
   "pygments_lexer": "ipython2",
   "version": "2.7.13"
  }
 },
 "nbformat": 4,
 "nbformat_minor": 2
}
