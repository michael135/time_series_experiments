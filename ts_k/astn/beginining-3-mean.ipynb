{
 "cells": [
  {
   "cell_type": "code",
   "execution_count": 2,
   "metadata": {},
   "outputs": [],
   "source": [
    "%matplotlib inline\n",
    "import random\n",
    "import pandas as pd\n",
    "import matplotlib.pyplot as plt\n",
    "import numpy as np"
   ]
  },
  {
   "cell_type": "code",
   "execution_count": 3,
   "metadata": {},
   "outputs": [],
   "source": [
    "data = pd.read_csv('market_data.csv').drop(columns=['Unnamed: 0', 'Time'])"
   ]
  },
  {
   "cell_type": "code",
   "execution_count": 4,
   "metadata": {},
   "outputs": [],
   "source": [
    "min_diff, max_diff = [], []\n",
    "for column in data:\n",
    "    first, second = data.loc[:60, column], data.loc[60:, column]\n",
    "    min_diff.append(first.min() - second.min())\n",
    "    max_diff.append(first.max() - second.max())\n",
    "    \n",
    "    "
   ]
  },
  {
   "cell_type": "code",
   "execution_count": 5,
   "metadata": {},
   "outputs": [
    {
     "data": {
      "image/png": "[encoded data removed]",
      "text/plain": [
       "<matplotlib.figure.Figure at 0x11458f750>"
      ]
     },
     "metadata": {},
     "output_type": "display_data"
    }
   ],
   "source": [
    "plt.hist(min_diff, bins=50, alpha=.5);\n",
    "plt.hist(max_diff, bins=50, alpha=.5);"
   ]
  },
  {
   "cell_type": "code",
   "execution_count": 6,
   "metadata": {},
   "outputs": [
    {
     "name": "stdout",
     "output_type": "stream",
     "text": [
      "2 std min = 0.00014\n",
      "2 std max = 0.00013\n"
     ]
    }
   ],
   "source": [
    "min_gap, max_gap = np.std(min_diff), np.std(max_diff)\n",
    "\n",
    "print '2 std min = {:.5f}\\n2 std max = {:.5f}'.format(np.std(min_diff)*2, np.std(max_diff)*2)"
   ]
  },
  {
   "cell_type": "code",
   "execution_count": 19,
   "metadata": {},
   "outputs": [
    {
     "name": "stdout",
     "output_type": "stream",
     "text": [
      "We have earned 0.390 with gap parameter = 0.01\n",
      "We have earned 0.415 with gap parameter = 0.06\n",
      "We have earned 0.438 with gap parameter = 0.11\n",
      "We have earned 0.458 with gap parameter = 0.17\n",
      "We have earned 0.475 with gap parameter = 0.22\n",
      "We have earned 0.487 with gap parameter = 0.27\n",
      "We have earned 0.495 with gap parameter = 0.32\n",
      "We have earned 0.495 with gap parameter = 0.37\n",
      "We have earned 0.480 with gap parameter = 0.43\n",
      "We have earned 0.469 with gap parameter = 0.48\n",
      "We have earned 0.446 with gap parameter = 0.53\n",
      "We have earned 0.416 with gap parameter = 0.58\n",
      "We have earned 0.374 with gap parameter = 0.64\n",
      "We have earned 0.344 with gap parameter = 0.69\n",
      "We have earned 0.299 with gap parameter = 0.74\n",
      "We have earned 0.257 with gap parameter = 0.79\n",
      "We have earned 0.211 with gap parameter = 0.84\n",
      "We have earned 0.166 with gap parameter = 0.90\n",
      "We have earned 0.109 with gap parameter = 0.95\n",
      "We have earned 0.058 with gap parameter = 1.00\n"
     ]
    }
   ],
   "source": [
    "cost_function = []\n",
    "for n in np.linspace(.01, 1, 20):\n",
    "    trade = np.zeros((data.shape[1], 2), dtype=float)\n",
    "    for i, column in enumerate(data):\n",
    "        first_mean, first_std = data.loc[:60, column].mean(), data.loc[60:, column].std()\n",
    "        min_achieved = False\n",
    "        for val in data.loc[60:, column]:\n",
    "            if val < first_mean - n * first_std:\n",
    "                trade[i, 0] = val\n",
    "                min_achieved = True\n",
    "            if min_achieved and val > first_mean + n * first_std:\n",
    "                trade[i, 1] = val\n",
    "\n",
    "                break\n",
    "\n",
    "    cost_function_n = np.sum(trade[:, 1] - trade[:, 0])\n",
    "    cost_function.append(cost_function_n)\n",
    "    print 'We have earned {:.3f} with gap parameter = {:.2f}'.format(cost_function_n, n)            "
   ]
  },
  {
   "cell_type": "code",
   "execution_count": 22,
   "metadata": {},
   "outputs": [
    {
     "data": {
      "image/png": "[encoded data removed]",
      "text/plain": [
       "<matplotlib.figure.Figure at 0x11688ee90>"
      ]
     },
     "metadata": {},
     "output_type": "display_data"
    }
   ],
   "source": [
    "plt.plot(np.linspace(.01, 1, 20), cost_function, marker='o');"
   ]
  },
  {
   "cell_type": "markdown",
   "metadata": {},
   "source": [
    "### Let's calculate the Upper Bound of the revenue"
   ]
  },
  {
   "cell_type": "markdown",
   "metadata": {},
   "source": [
    "First - Naive calculation"
   ]
  },
  {
   "cell_type": "code",
   "execution_count": 148,
   "metadata": {},
   "outputs": [
    {
     "name": "stdout",
     "output_type": "stream",
     "text": [
      "naive upper bound = 3.91\n"
     ]
    }
   ],
   "source": [
    "naive_upper_bound = np.sum(np.max(data.values[60:, :], axis=0) - np.min(data.values[60:, :], axis=0))\n",
    "print 'naive upper bound = {:.2f}'.format(naive_upper_bound)"
   ]
  },
  {
   "cell_type": "markdown",
   "metadata": {},
   "source": [
    "The more realistic calculation:\n",
    "\n",
    "(Considering, that minimum should appear before maximum)"
   ]
  },
  {
   "cell_type": "code",
   "execution_count": 147,
   "metadata": {},
   "outputs": [
    {
     "name": "stdout",
     "output_type": "stream",
     "text": [
      "real upper bound = 2.57\n"
     ]
    }
   ],
   "source": [
    "real_upper_bound = np.sum(max_diff(data.values[60:, col]) for col in range(data.values.shape[1]))\n",
    "print 'real upper bound = {:.2f}'.format(real_upper_bound)"
   ]
  },
  {
   "cell_type": "code",
   "execution_count": 79,
   "metadata": {},
   "outputs": [
    {
     "data": {
      "text/plain": [
       "0.106410487"
      ]
     },
     "execution_count": 79,
     "metadata": {},
     "output_type": "execute_result"
    }
   ],
   "source": [
    "np.sum(trade[:, 1] - trade[:, 0])"
   ]
  },
  {
   "cell_type": "code",
   "execution_count": 78,
   "metadata": {},
   "outputs": [
    {
     "data": {
      "image/png": "[encoded data removed]",
      "text/plain": [
       "<matplotlib.figure.Figure at 0x1165de450>"
      ]
     },
     "metadata": {},
     "output_type": "display_data"
    }
   ],
   "source": [
    "plt.hist(trade[:, 1] - trade[:, 0], bins=30);"
   ]
  },
  {
   "cell_type": "code",
   "execution_count": 131,
   "metadata": {},
   "outputs": [],
   "source": [
    "!mv max_diff.png img/\n"
   ]
  },
  {
   "cell_type": "markdown",
   "metadata": {},
   "source": [
    "<img src=\"img/max_diff.png\",width=400,height=400>"
   ]
  },
  {
   "cell_type": "code",
   "execution_count": 149,
   "metadata": {},
   "outputs": [],
   "source": [
    "def max_diff(arr):\n",
    "    \n",
    "    \"\"\"returns max difference in list, such that\n",
    "    mininmum appears before maximum\"\"\"\n",
    "    \n",
    "    max_diff = arr[1] - arr[0]\n",
    "    min_element = arr[0]\n",
    "    for val in arr:\n",
    "        if val - min_element > max_diff:\n",
    "            max_diff = val - min_element\n",
    "        if val < min_element:\n",
    "            min_element = val\n",
    "    return max_diff"
   ]
  },
  {
   "cell_type": "code",
   "execution_count": 143,
   "metadata": {},
   "outputs": [
    {
     "data": {
      "text/plain": [
       "12"
      ]
     },
     "execution_count": 143,
     "metadata": {},
     "output_type": "execute_result"
    }
   ],
   "source": [
    "max_diff([9, 1, 2, 4, 10, -10, 2])"
   ]
  },
  {
   "cell_type": "code",
   "execution_count": null,
   "metadata": {},
   "outputs": [],
   "source": []
  },
  {
   "cell_type": "code",
   "execution_count": null,
   "metadata": {},
   "outputs": [],
   "source": []
  }
 ],
 "metadata": {
  "kernelspec": {
   "display_name": "Python 2",
   "language": "python",
   "name": "python2"
  },
  "language_info": {
   "codemirror_mode": {
    "name": "ipython",
    "version": 2
   },
   "file_extension": ".py",
   "mimetype": "text/x-python",
   "name": "python",
   "nbconvert_exporter": "python",
   "pygments_lexer": "ipython2",
   "version": "2.7.13"
  }
 },
 "nbformat": 4,
 "nbformat_minor": 2
}
