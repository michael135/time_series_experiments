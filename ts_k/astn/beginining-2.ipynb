{
 "cells": [
  {
   "cell_type": "code",
   "execution_count": null,
   "metadata": {},
   "outputs": [],
   "source": [
    "%matplotlib inline\n",
    "import random\n",
    "import pandas as pd\n",
    "import matplotlib.pyplot as plt\n",
    "import numpy as np"
   ]
  },
  {
   "cell_type": "code",
   "execution_count": 7,
   "metadata": {},
   "outputs": [],
   "source": [
    "data = pd.read_csv('market_data.csv').drop(columns=['Unnamed: 0', 'Time'])"
   ]
  },
  {
   "cell_type": "code",
   "execution_count": 10,
   "metadata": {},
   "outputs": [],
   "source": [
    "min_diff, max_diff = [], []\n",
    "for column in data:\n",
    "    first, second = data.loc[:60, column], data.loc[60:, column]\n",
    "    min_diff.append(first.min() - second.min())\n",
    "    max_diff.append(first.max() - second.max())\n",
    "    \n",
    "    "
   ]
  },
  {
   "cell_type": "code",
   "execution_count": 22,
   "metadata": {},
   "outputs": [
    {
     "data": {
      "image/png": "[encoded data removed]",
      "text/plain": [
       "<matplotlib.figure.Figure at 0x11693ba50>"
      ]
     },
     "metadata": {},
     "output_type": "display_data"
    }
   ],
   "source": [
    "plt.hist(min_diff, bins=50, alpha=.5);\n",
    "plt.hist(max_diff, bins=50, alpha=.5);"
   ]
  },
  {
   "cell_type": "code",
   "execution_count": 28,
   "metadata": {},
   "outputs": [
    {
     "name": "stdout",
     "output_type": "stream",
     "text": [
      "2 std min = 0.00014\n",
      "2 std max = 0.00013\n"
     ]
    }
   ],
   "source": [
    "min_gap, max_gap = np.std(min_diff), np.std(max_diff)\n",
    "\n",
    "print '2 std min = {:.5f}\\n2 std max = {:.5f}'.format(np.std(min_diff)*2, np.std(max_diff)*2)"
   ]
  },
  {
   "cell_type": "code",
   "execution_count": 84,
   "metadata": {},
   "outputs": [
    {
     "data": {
      "text/plain": [
       "array([0.5       , 0.77777778, 1.05555556, 1.33333333, 1.61111111,\n",
       "       1.88888889, 2.16666667, 2.44444444, 2.72222222, 3.        ])"
      ]
     },
     "execution_count": 84,
     "metadata": {},
     "output_type": "execute_result"
    }
   ],
   "source": [
    "np.linspace(.5, 3, 10)"
   ]
  },
  {
   "cell_type": "code",
   "execution_count": 38,
   "metadata": {},
   "outputs": [
    {
     "data": {
      "text/plain": [
       "9138"
      ]
     },
     "execution_count": 38,
     "metadata": {},
     "output_type": "execute_result"
    }
   ],
   "source": [
    "data.shape[1]"
   ]
  },
  {
   "cell_type": "code",
   "execution_count": 88,
   "metadata": {},
   "outputs": [
    {
     "name": "stdout",
     "output_type": "stream",
     "text": [
      "We have earned 0.133 with gap parameter = 0.50\n",
      "We have earned 0.114 with gap parameter = 0.89\n",
      "We have earned 0.111 with gap parameter = 1.28\n",
      "We have earned 0.157 with gap parameter = 1.67\n",
      "We have earned 0.264 with gap parameter = 2.06\n",
      "We have earned 0.349 with gap parameter = 2.44\n",
      "We have earned 0.415 with gap parameter = 2.83\n",
      "We have earned 0.381 with gap parameter = 3.22\n",
      "We have earned 0.245 with gap parameter = 3.61\n",
      "We have earned 0.071 with gap parameter = 4.00\n"
     ]
    }
   ],
   "source": [
    "cost_function = []\n",
    "for n in np.linspace(.5, 4, 10):\n",
    "    min_diff, max_diff = [], []\n",
    "    trade = np.zeros((data.shape[1], 2), dtype=float)\n",
    "    for i, column in enumerate(data):\n",
    "        first_min, first_max = data.loc[:60, column].min(), data.loc[60:, column].max()\n",
    "        min_achieved = False\n",
    "        for val in data.loc[60:, column]:\n",
    "            if val < first_min + n * min_gap:\n",
    "                trade[i, 0] = val\n",
    "                min_achieved = True\n",
    "            if min_achieved and val > first_max - n * max_gap:\n",
    "                trade[i, 1] = val\n",
    "\n",
    "                break\n",
    "\n",
    "    cost_function_n = np.sum(trade[:, 1] - trade[:, 0])\n",
    "    cost_function.append(cost_function_n)\n",
    "    print 'We have earned {:.3f} with gap parameter = {:.2f}'.format(cost_function_n, n)            "
   ]
  },
  {
   "cell_type": "code",
   "execution_count": 107,
   "metadata": {},
   "outputs": [
    {
     "name": "stdout",
     "output_type": "stream",
     "text": [
      "We have earned 0.354 with gap parameter = 2.50\n",
      "We have earned 0.392 with gap parameter = 2.61\n",
      "We have earned 0.403 with gap parameter = 2.72\n",
      "We have earned 0.415 with gap parameter = 2.83\n",
      "We have earned 0.421 with gap parameter = 2.94\n",
      "We have earned 0.419 with gap parameter = 3.06\n",
      "We have earned 0.400 with gap parameter = 3.17\n",
      "We have earned 0.365 with gap parameter = 3.28\n",
      "We have earned 0.331 with gap parameter = 3.39\n",
      "We have earned 0.287 with gap parameter = 3.50\n"
     ]
    }
   ],
   "source": [
    "cost_function = []\n",
    "for n in np.linspace(2.5, 3.5, 10):\n",
    "    min_diff, max_diff = [], []\n",
    "    trade = np.zeros((data.shape[1], 2), dtype=float)\n",
    "    for i, column in enumerate(data):\n",
    "        first_min, first_max = data.loc[:60, column].min(), data.loc[60:, column].max()\n",
    "        min_achieved = False\n",
    "        for val in data.loc[60:, column]:\n",
    "            if val < first_min + n * min_gap:\n",
    "                trade[i, 0] = val\n",
    "                min_achieved = True\n",
    "            if min_achieved and val > first_max - n * max_gap:\n",
    "                trade[i, 1] = val\n",
    "\n",
    "                break\n",
    "\n",
    "    cost_function_n = np.sum(trade[:, 1] - trade[:, 0])\n",
    "    cost_function.append(cost_function_n)\n",
    "    print 'We have earned {:.3f} with gap parameter = {:.2f}'.format(cost_function_n, n)       "
   ]
  },
  {
   "cell_type": "code",
   "execution_count": 90,
   "metadata": {},
   "outputs": [
    {
     "data": {
      "image/png": "[encoded data removed]",
      "text/plain": [
       "<matplotlib.figure.Figure at 0x113632310>"
      ]
     },
     "metadata": {},
     "output_type": "display_data"
    }
   ],
   "source": [
    "plt.plot(np.linspace(.5, 4, 10), cost_function);"
   ]
  },
  {
   "cell_type": "markdown",
   "metadata": {},
   "source": [
    "### Let's calculate the Upper Bound of the revenue"
   ]
  },
  {
   "cell_type": "markdown",
   "metadata": {},
   "source": [
    "First - Naive calculation"
   ]
  },
  {
   "cell_type": "code",
   "execution_count": 148,
   "metadata": {},
   "outputs": [
    {
     "name": "stdout",
     "output_type": "stream",
     "text": [
      "naive upper bound = 3.91\n"
     ]
    }
   ],
   "source": [
    "naive_upper_bound = np.sum(np.max(data.values[60:, :], axis=0) - np.min(data.values[60:, :], axis=0))\n",
    "print 'naive upper bound = {:.2f}'.format(naive_upper_bound)"
   ]
  },
  {
   "cell_type": "markdown",
   "metadata": {},
   "source": [
    "The more realistic calculation:\n",
    "\n",
    "(Considering, that minimum should appear before maximum)"
   ]
  },
  {
   "cell_type": "code",
   "execution_count": 147,
   "metadata": {},
   "outputs": [
    {
     "name": "stdout",
     "output_type": "stream",
     "text": [
      "real upper bound = 2.57\n"
     ]
    }
   ],
   "source": [
    "real_upper_bound = np.sum(max_diff(data.values[60:, col]) for col in range(data.values.shape[1]))\n",
    "print 'real upper bound = {:.2f}'.format(real_upper_bound)"
   ]
  },
  {
   "cell_type": "code",
   "execution_count": 79,
   "metadata": {},
   "outputs": [
    {
     "data": {
      "text/plain": [
       "0.106410487"
      ]
     },
     "execution_count": 79,
     "metadata": {},
     "output_type": "execute_result"
    }
   ],
   "source": [
    "np.sum(trade[:, 1] - trade[:, 0])"
   ]
  },
  {
   "cell_type": "code",
   "execution_count": 78,
   "metadata": {},
   "outputs": [
    {
     "data": {
      "image/png": "[encoded data removed]",
      "text/plain": [
       "<matplotlib.figure.Figure at 0x1165de450>"
      ]
     },
     "metadata": {},
     "output_type": "display_data"
    }
   ],
   "source": [
    "plt.hist(trade[:, 1] - trade[:, 0], bins=30);"
   ]
  },
  {
   "cell_type": "code",
   "execution_count": 131,
   "metadata": {},
   "outputs": [],
   "source": [
    "!mv max_diff.png img/\n"
   ]
  },
  {
   "cell_type": "markdown",
   "metadata": {},
   "source": [
    "<img src=\"img/max_diff.png\",width=400,height=400>"
   ]
  },
  {
   "cell_type": "code",
   "execution_count": 149,
   "metadata": {},
   "outputs": [],
   "source": [
    "def max_diff(arr):\n",
    "    \n",
    "    \"\"\"returns max difference in list, such that\n",
    "    mininmum appears before maximum\"\"\"\n",
    "    \n",
    "    max_diff = arr[1] - arr[0]\n",
    "    min_element = arr[0]\n",
    "    for val in arr:\n",
    "        if val - min_element > max_diff:\n",
    "            max_diff = val - min_element\n",
    "        if val < min_element:\n",
    "            min_element = val\n",
    "    return max_diff"
   ]
  },
  {
   "cell_type": "code",
   "execution_count": 143,
   "metadata": {},
   "outputs": [
    {
     "data": {
      "text/plain": [
       "12"
      ]
     },
     "execution_count": 143,
     "metadata": {},
     "output_type": "execute_result"
    }
   ],
   "source": [
    "max_diff([9, 1, 2, 4, 10, -10, 2])"
   ]
  },
  {
   "cell_type": "code",
   "execution_count": null,
   "metadata": {},
   "outputs": [],
   "source": []
  },
  {
   "cell_type": "code",
   "execution_count": null,
   "metadata": {},
   "outputs": [],
   "source": []
  }
 ],
 "metadata": {
  "kernelspec": {
   "display_name": "Python 2",
   "language": "python",
   "name": "python2"
  },
  "language_info": {
   "codemirror_mode": {
    "name": "ipython",
    "version": 2
   },
   "file_extension": ".py",
   "mimetype": "text/x-python",
   "name": "python",
   "nbconvert_exporter": "python",
   "pygments_lexer": "ipython2",
   "version": "2.7.13"
  }
 },
 "nbformat": 4,
 "nbformat_minor": 2
}
